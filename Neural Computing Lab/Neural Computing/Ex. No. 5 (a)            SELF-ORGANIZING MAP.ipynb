{
 "cells": [
  {
   "cell_type": "code",
   "execution_count": 1,
   "metadata": {},
   "outputs": [
    {
     "name": "stdout",
     "output_type": "stream",
     "text": [
      "Test Sample s belongs to Cluster: 1\n",
      "Trained weights: [[0.003125, 0.009375, 0.6640625, 0.9984375], [0.996875, 0.334375, 0.0109375, 0.0046875]]\n"
     ]
    }
   ],
   "source": [
    "import math \n",
    "\n",
    "class SOM: \n",
    "    # Compute the winning vector by Euclidean distance\n",
    "    def winner(self, weights, sample): \n",
    "        D0 = sum((sample[i] - weights[0][i]) ** 2 for i in range(len(sample)))\n",
    "        D1 = sum((sample[i] - weights[1][i]) ** 2 for i in range(len(sample)))\n",
    "        return 0 if D0 < D1 else 1\n",
    "\n",
    "    # Update the winning vector\n",
    "    def update(self, weights, sample, j, alpha): \n",
    "        for i in range(len(sample)):\n",
    "            weights[j][i] = weights[j][i] + alpha * (sample[i] - weights[j][i]) \n",
    "        return weights \n",
    "\n",
    "# Driver code\n",
    "if __name__ == \"__main__\": \n",
    "    # Training Examples (m, n)\n",
    "    T = [ [1, 1, 0, 0], [0, 0, 0, 1], [1, 0, 0, 0], [0, 0, 1, 1] ] \n",
    "    m, n = len(T), len(T[0]) \n",
    "\n",
    "    # Weight initialization (n, C)\n",
    "    weights = [ [0.2, 0.6, 0.5, 0.9], [0.8, 0.4, 0.7, 0.3] ] \n",
    "\n",
    "    # Training parameters\n",
    "    epochs = 3\n",
    "    alpha = 0.5 \n",
    "\n",
    "    # SOM training\n",
    "    som = SOM() \n",
    "    for epoch in range(epochs): \n",
    "        for j in range(m): \n",
    "            sample = T[j]\n",
    "            J = som.winner(weights, sample)\n",
    "            weights = som.update(weights, sample, J, alpha)\n",
    "\n",
    "    # Classify a test sample\n",
    "    s = [1, 1, 0, 1] \n",
    "    J = som.winner(weights, s) \n",
    "    print(\"Test Sample s belongs to Cluster:\", J) \n",
    "    print(\"Trained weights:\", weights) \n"
   ]
  }
 ],
 "metadata": {
  "kernelspec": {
   "display_name": "Python 3",
   "language": "python",
   "name": "python3"
  },
  "language_info": {
   "codemirror_mode": {
    "name": "ipython",
    "version": 3
   },
   "file_extension": ".py",
   "mimetype": "text/x-python",
   "name": "python",
   "nbconvert_exporter": "python",
   "pygments_lexer": "ipython3",
   "version": "3.12.1"
  }
 },
 "nbformat": 4,
 "nbformat_minor": 2
}
