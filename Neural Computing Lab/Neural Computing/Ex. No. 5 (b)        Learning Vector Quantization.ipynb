{
 "cells": [
  {
   "cell_type": "code",
   "execution_count": 1,
   "metadata": {},
   "outputs": [
    {
     "name": "stdout",
     "output_type": "stream",
     "text": [
      "Sample T belongs to class: 0\n",
      "Trained weights: [[0.0, -0.1791, 0.70299, 1.1791], [0.919, 0.5217031000000001, 0.31294900000000003, 0.0]]\n"
     ]
    }
   ],
   "source": [
    "import math \n",
    "\n",
    "class LVQ: \n",
    "    # Function to compute the winning vector by Euclidean distance \n",
    "    def winner(self, weights, sample): \n",
    "        distances = [sum(math.pow(sample[i] - weight[i], 2) for i in range(len(sample))) for weight in weights]\n",
    "        return distances.index(min(distances))  # Return index of the closest weight \n",
    "\n",
    "    # Function to update the winning vector \n",
    "    def update(self, weights, sample, J, alpha, actual): \n",
    "        if actual == J:  # If the predicted class matches the actual class \n",
    "            for i in range(len(weights[J])):\n",
    "                weights[J][i] += alpha * (sample[i] - weights[J][i])  # Move closer \n",
    "        else: \n",
    "            for i in range(len(weights[J])):\n",
    "                weights[J][i] -= alpha * (sample[i] - weights[J][i])  # Move away \n",
    "\n",
    "# Driver code \n",
    "def main(): \n",
    "    # Training Samples (m, n) with their class vector \n",
    "    X = [[0, 0, 1, 1], [1, 0, 0, 0],  \n",
    "         [0, 0, 0, 1], [0, 1, 1, 0], \n",
    "         [1, 1, 0, 0], [1, 1, 1, 0]] \n",
    "    Y = [0, 1, 0, 1, 1, 1]  # Class labels \n",
    "    \n",
    "    m, n = len(X), len(X[0]) \n",
    "\n",
    "    # Weight initialization (n, c) \n",
    "    weights = [] \n",
    "    weights.append(X.pop(0))  # First prototype \n",
    "    weights.append(X.pop(0))  # Second prototype \n",
    "\n",
    "    # Samples used in weight initialization will not be used in training\n",
    "    m -= 2 \n",
    "    Y.pop(0) \n",
    "    Y.pop(0) \n",
    "\n",
    "    # Training\n",
    "    ob = LVQ() \n",
    "    epochs = 3 \n",
    "    alpha = 0.1 \n",
    "    for _ in range(epochs): \n",
    "        for j in range(m): \n",
    "            # Sample selection \n",
    "            T = X[j] \n",
    "            # Compute winner \n",
    "            J = ob.winner(weights, T) \n",
    "            # Update weights \n",
    "            ob.update(weights, T, J, alpha, Y[j]) \n",
    "\n",
    "    # Classify new input sample \n",
    "    T = [0, 0, 1, 0] \n",
    "    J = ob.winner(weights, T) \n",
    "    print(\"Sample T belongs to class:\", J) \n",
    "    print(\"Trained weights:\", weights) \n",
    "\n",
    "if __name__ == \"__main__\": \n",
    "    main()\n"
   ]
  }
 ],
 "metadata": {
  "kernelspec": {
   "display_name": "Python 3",
   "language": "python",
   "name": "python3"
  },
  "language_info": {
   "codemirror_mode": {
    "name": "ipython",
    "version": 3
   },
   "file_extension": ".py",
   "mimetype": "text/x-python",
   "name": "python",
   "nbconvert_exporter": "python",
   "pygments_lexer": "ipython3",
   "version": "3.12.1"
  }
 },
 "nbformat": 4,
 "nbformat_minor": 2
}
