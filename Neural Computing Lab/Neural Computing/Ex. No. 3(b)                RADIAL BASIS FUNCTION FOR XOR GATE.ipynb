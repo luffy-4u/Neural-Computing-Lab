{
 "cells": [
  {
   "cell_type": "code",
   "execution_count": 1,
   "metadata": {},
   "outputs": [
    {
     "name": "stdout",
     "output_type": "stream",
     "text": [
      "Centers:\n",
      " [[0 0]\n",
      " [0 1]\n",
      " [1 0]\n",
      " [1 1]]\n",
      "\n",
      "DataFrame:\n",
      "     Input        RBF Activation  Predicted Value  Predicted Output\n",
      "0  (0, 0)  (1.0, 0.6, 0.6, 0.4)             -0.2                 0\n",
      "1  (0, 1)  (0.6, 1.0, 0.4, 0.6)              0.2                 1\n",
      "2  (1, 0)  (0.6, 0.4, 1.0, 0.6)              0.2                 1\n",
      "3  (1, 1)  (0.4, 0.6, 0.6, 1.0)             -0.2                 0\n"
     ]
    }
   ],
   "source": [
    "import numpy as np \n",
    "import pandas as pd \n",
    "from sklearn.cluster import KMeans \n",
    "from scipy.spatial.distance import cdist \n",
    "\n",
    "# Data\n",
    "X = np.array([[0, 0], [0, 1], [1, 0], [1, 1]]) \n",
    "y = np.array([0, 1, 1, 0]) \n",
    "weight = np.array([-1, 1, 1, -1]) \n",
    "\n",
    "# Use X as centers (no clustering in this case)\n",
    "centers = np.copy(X)\n",
    "print(\"Centers:\\n\", centers)\n",
    "\n",
    "# Standard deviation for RBF\n",
    "std_dev = 1 \n",
    "\n",
    "# RBF activation function\n",
    "def rbf_activation(X, centers, std_dev): \n",
    "    return np.around(np.exp(-cdist(X, centers, 'sqeuclidean') / (2 * std_dev**2)), decimals=1)\n",
    "\n",
    "# Calculate RBF activations\n",
    "rbf_x = rbf_activation(X, centers, std_dev)\n",
    "\n",
    "# Prediction function\n",
    "def pred():\n",
    "    return np.dot(rbf_x, weight)\n",
    "\n",
    "# Binary step function\n",
    "def step_fun(s): \n",
    "    return 1 if s > 0 else 0\n",
    "\n",
    "# Calculate predictions\n",
    "pred_values = pred()\n",
    "step_predictions = np.array([step_fun(val) for val in pred_values])\n",
    "\n",
    "# Create DataFrame to display results\n",
    "df = pd.DataFrame({ \n",
    "    'Input': list(map(tuple, X)), \n",
    "    'RBF Activation': list(map(tuple, rbf_x)), \n",
    "    'Predicted Value': pred_values, \n",
    "    'Predicted Output': step_predictions \n",
    "})\n",
    "\n",
    "print(\"\\nDataFrame:\\n\", df)\n"
   ]
  }
 ],
 "metadata": {
  "kernelspec": {
   "display_name": "Python 3",
   "language": "python",
   "name": "python3"
  },
  "language_info": {
   "codemirror_mode": {
    "name": "ipython",
    "version": 3
   },
   "file_extension": ".py",
   "mimetype": "text/x-python",
   "name": "python",
   "nbconvert_exporter": "python",
   "pygments_lexer": "ipython3",
   "version": "3.12.1"
  }
 },
 "nbformat": 4,
 "nbformat_minor": 2
}
