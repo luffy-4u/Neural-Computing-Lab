{
 "cells": [
  {
   "cell_type": "code",
   "execution_count": 1,
   "metadata": {},
   "outputs": [
    {
     "name": "stdout",
     "output_type": "stream",
     "text": [
      "OR Gate:\n",
      "Input: [0 0], Expected Output: 0\n",
      "Input: [0 1], Expected Output: 1\n",
      "Input: [1 0], Expected Output: 1\n",
      "Input: [1 1], Expected Output: 1\n",
      "\n",
      "Initial Weights and Bias:\n",
      "Weights: [[0.]\n",
      " [0.]] Bias: 0\n",
      "\n",
      "Trained Weights and Bias:\n",
      "Weights: [[0.1]\n",
      " [0.1]] Bias: 0.0\n",
      "\n",
      "OR Gate (Predicted Outputs):\n",
      "Input: [0 0], Predicted Output: [0]\n",
      "Input: [0 1], Predicted Output: [1]\n",
      "Input: [1 0], Predicted Output: [1]\n",
      "Input: [1 1], Predicted Output: [1]\n",
      "\n",
      "Accuracy: 1.0\n"
     ]
    }
   ],
   "source": [
    "import numpy as np\n",
    "\n",
    "class Perceptron:\n",
    "    def __init__(self) -> None:\n",
    "        self.weights = np.zeros((2, 1))\n",
    "        self.bias = 0\n",
    "\n",
    "    def predict(self, x: np.array) -> np.array:\n",
    "        return np.where(np.dot(x, self.weights) + self.bias > 0, 1, 0)\n",
    "\n",
    "    def fit(self, x: np.array, y: np.array, epoch: int = 100, learning_rate: float = 0.1) -> None:\n",
    "        for _ in range(epoch):\n",
    "            for x_i, y_i in zip(x, y):\n",
    "                y_hat = self.predict(x_i).squeeze()\n",
    "                self.weights += learning_rate * (y_i - y_hat) * x_i.reshape(-1, 1)\n",
    "                self.bias += learning_rate * (y_i - y_hat)\n",
    "\n",
    "    def score(self, x: np.array, y: np.array) -> float:\n",
    "        y_hat = self.predict(x).squeeze()\n",
    "        return np.mean(y_hat == y)\n",
    "\n",
    "if __name__ == '__main__':\n",
    "    # Define the OR gate inputs and outputs\n",
    "    X = np.array([[0, 0], [0, 1], [1, 0], [1, 1]])\n",
    "    y = np.array([0, 1, 1, 1])\n",
    "\n",
    "    # Initialize and display results for the Perceptron\n",
    "    perceptron = Perceptron()\n",
    "    print(\"OR Gate:\")\n",
    "    for x, y_i in zip(X, y):\n",
    "        print(f\"Input: {x}, Expected Output: {y_i}\")\n",
    "    \n",
    "    print(\"\\nInitial Weights and Bias:\")\n",
    "    print(\"Weights:\", perceptron.weights, \"Bias:\", perceptron.bias)\n",
    "\n",
    "    # Train the perceptron\n",
    "    perceptron.fit(X, y, epoch=3)\n",
    "\n",
    "    print(\"\\nTrained Weights and Bias:\")\n",
    "    print(\"Weights:\", perceptron.weights, \"Bias:\", perceptron.bias)\n",
    "\n",
    "    # Display predictions after training\n",
    "    print(\"\\nOR Gate (Predicted Outputs):\")\n",
    "    for x in X:\n",
    "        print(f\"Input: {x}, Predicted Output: {perceptron.predict(x)}\")\n",
    "\n",
    "    # Calculate and display accuracy\n",
    "    print(\"\\nAccuracy:\", perceptron.score(X, y))\n"
   ]
  }
 ],
 "metadata": {
  "kernelspec": {
   "display_name": "Python 3",
   "language": "python",
   "name": "python3"
  },
  "language_info": {
   "codemirror_mode": {
    "name": "ipython",
    "version": 3
   },
   "file_extension": ".py",
   "mimetype": "text/x-python",
   "name": "python",
   "nbconvert_exporter": "python",
   "pygments_lexer": "ipython3",
   "version": "3.12.1"
  }
 },
 "nbformat": 4,
 "nbformat_minor": 2
}
